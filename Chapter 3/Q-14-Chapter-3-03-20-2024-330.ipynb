{
 "cells": [
  {
   "cell_type": "code",
   "execution_count": 108,
   "id": "78f05353-7f95-46d0-b792-7e165d04caaf",
   "metadata": {},
   "outputs": [],
   "source": [
    "# Importing libraries and important packages\n",
    "import numpy as np\n",
    "import pandas as pd\n",
    "import matplotlib.pyplot as plt\n",
    "from ISLP.models import (ModelSpec as MS,\n",
    "summarize ,\n",
    "poly)\n",
    "import statsmodels.api as sm"
   ]
  },
  {
   "cell_type": "markdown",
   "id": "09aece0e-a35d-4b97-a351-c55109f0d3a0",
   "metadata": {},
   "source": [
    "## (a) Write out the form of the linear model. What are the regression coefficients??"
   ]
  },
  {
   "cell_type": "code",
   "execution_count": 109,
   "id": "57b6c8bb-0610-4dd7-8e19-a7bbef022fdd",
   "metadata": {},
   "outputs": [],
   "source": [
    "# Creating a linear model\n",
    "rng = np.random.default_rng(10)\n",
    "x1 = rng.uniform(0, 1, size=100)\n",
    "x2 = 0.5 * x1 + rng.normal(size=100) / 10\n",
    "y = 2 + 2 * x1 + 0.3 * x2 + rng.normal(size=100)"
   ]
  },
  {
   "cell_type": "markdown",
   "id": "68ea4bb2-9a07-4850-9f93-f4199bd86105",
   "metadata": {},
   "source": [
    "* From the above the form of linear model is: y = B0 + B1 + B2 + Error term\n",
    "* The coefficients are:\n",
    "  * B0 = 2\n",
    "  * B1 = 2\n",
    "  * B2 = 0.3"
   ]
  },
  {
   "cell_type": "markdown",
   "id": "9648c5db-6c28-4fd3-9295-f7942d0b1dcd",
   "metadata": {},
   "source": [
    "## (b) What is the correlation between x1 and x2? Create a scatterplot displaying the relationship between the variables."
   ]
  },
  {
   "cell_type": "code",
   "execution_count": 110,
   "id": "1f589e9b-21ef-4273-97c5-76402afe7ece",
   "metadata": {},
   "outputs": [],
   "source": [
    "# Create dataframe from above data\n",
    "df = pd.DataFrame({'x1': x1, 'x2': x2})"
   ]
  },
  {
   "cell_type": "code",
   "execution_count": 111,
   "id": "66ea0d90-e0ed-402a-b9e2-273bf12f28dc",
   "metadata": {},
   "outputs": [
    {
     "data": {
      "image/png": "[encoded data removed]",
      "text/plain": [
       "<Figure size 640x480 with 1 Axes>"
      ]
     },
     "metadata": {},
     "output_type": "display_data"
    }
   ],
   "source": [
    "# Create scatter plot to display relationship between variables\n",
    "ax = df.plot.scatter('x1', 'x2', label = 'Data points')\n",
    "ax.set_xlabel('X1')\n",
    "ax.set_ylabel('X2')\n",
    "ax.legend();"
   ]
  },
  {
   "cell_type": "code",
   "execution_count": 112,
   "id": "34c286e3-0687-4a4d-8cde-c3fb92ff95d5",
   "metadata": {},
   "outputs": [
    {
     "data": {
      "text/plain": [
       "array([[1.       , 0.7723245],\n",
       "       [0.7723245, 1.       ]])"
      ]
     },
     "execution_count": 112,
     "metadata": {},
     "output_type": "execute_result"
    }
   ],
   "source": [
    "# Find the correlation between x1 and x2\n",
    "correlation = np.corrcoef(x1, x2)\n",
    "correlation"
   ]
  },
  {
   "cell_type": "markdown",
   "id": "5764a35b-8528-4d02-a6ce-0be506b83612",
   "metadata": {},
   "source": [
    "## (c) Using this data, fit a least squares regression to predict y using x1 and x2. Describe the results obtained."
   ]
  },
  {
   "cell_type": "code",
   "execution_count": 113,
   "id": "1c14720a-9931-43af-8850-4835f5ac4b6b",
   "metadata": {},
   "outputs": [],
   "source": [
    "design = MS(['x1', 'x2'])\n",
    "X = design.fit_transform(df)"
   ]
  },
  {
   "cell_type": "code",
   "execution_count": 114,
   "id": "c3c21147-839a-435b-90e4-1b89536e808e",
   "metadata": {},
   "outputs": [],
   "source": [
    "# Fitting the model\n",
    "model = sm.OLS(y, X)\n",
    "results1 = model.fit()"
   ]
  },
  {
   "cell_type": "code",
   "execution_count": 115,
   "id": "41dd0af6-5579-44da-adc0-7d04e843b6c4",
   "metadata": {},
   "outputs": [
    {
     "data": {
      "text/html": [
       "<table class=\"simpletable\">\n",
       "<caption>OLS Regression Results</caption>\n",
       "<tr>\n",
       "  <th>Dep. Variable:</th>            <td>y</td>        <th>  R-squared:         </th> <td>   0.291</td>\n",
       "</tr>\n",
       "<tr>\n",
       "  <th>Model:</th>                   <td>OLS</td>       <th>  Adj. R-squared:    </th> <td>   0.276</td>\n",
       "</tr>\n",
       "<tr>\n",
       "  <th>Method:</th>             <td>Least Squares</td>  <th>  F-statistic:       </th> <td>   19.89</td>\n",
       "</tr>\n",
       "<tr>\n",
       "  <th>Date:</th>             <td>Wed, 20 Mar 2024</td> <th>  Prob (F-statistic):</th> <td>5.76e-08</td>\n",
       "</tr>\n",
       "<tr>\n",
       "  <th>Time:</th>                 <td>13:21:04</td>     <th>  Log-Likelihood:    </th> <td> -130.62</td>\n",
       "</tr>\n",
       "<tr>\n",
       "  <th>No. Observations:</th>      <td>   100</td>      <th>  AIC:               </th> <td>   267.2</td>\n",
       "</tr>\n",
       "<tr>\n",
       "  <th>Df Residuals:</th>          <td>    97</td>      <th>  BIC:               </th> <td>   275.1</td>\n",
       "</tr>\n",
       "<tr>\n",
       "  <th>Df Model:</th>              <td>     2</td>      <th>                     </th>     <td> </td>   \n",
       "</tr>\n",
       "<tr>\n",
       "  <th>Covariance Type:</th>      <td>nonrobust</td>    <th>                     </th>     <td> </td>   \n",
       "</tr>\n",
       "</table>\n",
       "<table class=\"simpletable\">\n",
       "<tr>\n",
       "      <td></td>         <th>coef</th>     <th>std err</th>      <th>t</th>      <th>P>|t|</th>  <th>[0.025</th>    <th>0.975]</th>  \n",
       "</tr>\n",
       "<tr>\n",
       "  <th>intercept</th> <td>    1.9579</td> <td>    0.190</td> <td>   10.319</td> <td> 0.000</td> <td>    1.581</td> <td>    2.334</td>\n",
       "</tr>\n",
       "<tr>\n",
       "  <th>x1</th>        <td>    1.6154</td> <td>    0.527</td> <td>    3.065</td> <td> 0.003</td> <td>    0.569</td> <td>    2.661</td>\n",
       "</tr>\n",
       "<tr>\n",
       "  <th>x2</th>        <td>    0.9428</td> <td>    0.831</td> <td>    1.134</td> <td> 0.259</td> <td>   -0.707</td> <td>    2.592</td>\n",
       "</tr>\n",
       "</table>\n",
       "<table class=\"simpletable\">\n",
       "<tr>\n",
       "  <th>Omnibus:</th>       <td> 0.051</td> <th>  Durbin-Watson:     </th> <td>   1.964</td>\n",
       "</tr>\n",
       "<tr>\n",
       "  <th>Prob(Omnibus):</th> <td> 0.975</td> <th>  Jarque-Bera (JB):  </th> <td>   0.041</td>\n",
       "</tr>\n",
       "<tr>\n",
       "  <th>Skew:</th>          <td>-0.036</td> <th>  Prob(JB):          </th> <td>   0.979</td>\n",
       "</tr>\n",
       "<tr>\n",
       "  <th>Kurtosis:</th>      <td> 2.931</td> <th>  Cond. No.          </th> <td>    11.9</td>\n",
       "</tr>\n",
       "</table><br/><br/>Notes:<br/>[1] Standard Errors assume that the covariance matrix of the errors is correctly specified."
      ],
      "text/latex": [
       "\\begin{center}\n",
       "\\begin{tabular}{lclc}\n",
       "\\toprule\n",
       "\\textbf{Dep. Variable:}    &        y         & \\textbf{  R-squared:         } &     0.291   \\\\\n",
       "\\textbf{Model:}            &       OLS        & \\textbf{  Adj. R-squared:    } &     0.276   \\\\\n",
       "\\textbf{Method:}           &  Least Squares   & \\textbf{  F-statistic:       } &     19.89   \\\\\n",
       "\\textbf{Date:}             & Wed, 20 Mar 2024 & \\textbf{  Prob (F-statistic):} &  5.76e-08   \\\\\n",
       "\\textbf{Time:}             &     13:21:04     & \\textbf{  Log-Likelihood:    } &   -130.62   \\\\\n",
       "\\textbf{No. Observations:} &         100      & \\textbf{  AIC:               } &     267.2   \\\\\n",
       "\\textbf{Df Residuals:}     &          97      & \\textbf{  BIC:               } &     275.1   \\\\\n",
       "\\textbf{Df Model:}         &           2      & \\textbf{                     } &             \\\\\n",
       "\\textbf{Covariance Type:}  &    nonrobust     & \\textbf{                     } &             \\\\\n",
       "\\bottomrule\n",
       "\\end{tabular}\n",
       "\\begin{tabular}{lcccccc}\n",
       "                   & \\textbf{coef} & \\textbf{std err} & \\textbf{t} & \\textbf{P$> |$t$|$} & \\textbf{[0.025} & \\textbf{0.975]}  \\\\\n",
       "\\midrule\n",
       "\\textbf{intercept} &       1.9579  &        0.190     &    10.319  &         0.000        &        1.581    &        2.334     \\\\\n",
       "\\textbf{x1}        &       1.6154  &        0.527     &     3.065  &         0.003        &        0.569    &        2.661     \\\\\n",
       "\\textbf{x2}        &       0.9428  &        0.831     &     1.134  &         0.259        &       -0.707    &        2.592     \\\\\n",
       "\\bottomrule\n",
       "\\end{tabular}\n",
       "\\begin{tabular}{lclc}\n",
       "\\textbf{Omnibus:}       &  0.051 & \\textbf{  Durbin-Watson:     } &    1.964  \\\\\n",
       "\\textbf{Prob(Omnibus):} &  0.975 & \\textbf{  Jarque-Bera (JB):  } &    0.041  \\\\\n",
       "\\textbf{Skew:}          & -0.036 & \\textbf{  Prob(JB):          } &    0.979  \\\\\n",
       "\\textbf{Kurtosis:}      &  2.931 & \\textbf{  Cond. No.          } &     11.9  \\\\\n",
       "\\bottomrule\n",
       "\\end{tabular}\n",
       "%\\caption{OLS Regression Results}\n",
       "\\end{center}\n",
       "\n",
       "Notes: \\newline\n",
       " [1] Standard Errors assume that the covariance matrix of the errors is correctly specified."
      ],
      "text/plain": [
       "<class 'statsmodels.iolib.summary.Summary'>\n",
       "\"\"\"\n",
       "                            OLS Regression Results                            \n",
       "==============================================================================\n",
       "Dep. Variable:                      y   R-squared:                       0.291\n",
       "Model:                            OLS   Adj. R-squared:                  0.276\n",
       "Method:                 Least Squares   F-statistic:                     19.89\n",
       "Date:                Wed, 20 Mar 2024   Prob (F-statistic):           5.76e-08\n",
       "Time:                        13:21:04   Log-Likelihood:                -130.62\n",
       "No. Observations:                 100   AIC:                             267.2\n",
       "Df Residuals:                      97   BIC:                             275.1\n",
       "Df Model:                           2                                         \n",
       "Covariance Type:            nonrobust                                         \n",
       "==============================================================================\n",
       "                 coef    std err          t      P>|t|      [0.025      0.975]\n",
       "------------------------------------------------------------------------------\n",
       "intercept      1.9579      0.190     10.319      0.000       1.581       2.334\n",
       "x1             1.6154      0.527      3.065      0.003       0.569       2.661\n",
       "x2             0.9428      0.831      1.134      0.259      -0.707       2.592\n",
       "==============================================================================\n",
       "Omnibus:                        0.051   Durbin-Watson:                   1.964\n",
       "Prob(Omnibus):                  0.975   Jarque-Bera (JB):                0.041\n",
       "Skew:                          -0.036   Prob(JB):                        0.979\n",
       "Kurtosis:                       2.931   Cond. No.                         11.9\n",
       "==============================================================================\n",
       "\n",
       "Notes:\n",
       "[1] Standard Errors assume that the covariance matrix of the errors is correctly specified.\n",
       "\"\"\""
      ]
     },
     "execution_count": 115,
     "metadata": {},
     "output_type": "execute_result"
    }
   ],
   "source": [
    "results1.summary()"
   ]
  },
  {
   "cell_type": "markdown",
   "id": "b2b9331e-7ce3-4c0d-b1dd-6920dda074bf",
   "metadata": {},
   "source": [
    "### Answer (c)\n",
    "* Estimated coefficients:\n",
    "  * B0 = 1.9579\n",
    "  * B1 = 1.6154\n",
    "  * B2 = 0.9428\n",
    "* In above estimated coefficients the B0 and B1 are little bit small than true but B2 is greater than true.\n",
    "* The B1 and B2 are not 0 also greater than 1 hence we reject the null hypothesis."
   ]
  },
  {
   "cell_type": "markdown",
   "id": "6fa32c44-2e37-4d46-a562-9ecfe034023e",
   "metadata": {},
   "source": [
    "## (d) Now fit a least squares regression to predict y using only x1. Comment on your results. Can you reject the null hypothesis H0 : β1 = 0?"
   ]
  },
  {
   "cell_type": "code",
   "execution_count": 116,
   "id": "1790c4cb-d24d-4fd0-966a-3de621403856",
   "metadata": {},
   "outputs": [],
   "source": [
    "# Fitting the model\n",
    "design1 = MS(['x1'])\n",
    "newX = design1.fit_transform(df)\n",
    "model1 = sm.OLS(y, newX)\n",
    "results2 = model1.fit()"
   ]
  },
  {
   "cell_type": "code",
   "execution_count": 117,
   "id": "45184e93-e5d1-4efa-bcaf-96d41286fb67",
   "metadata": {},
   "outputs": [
    {
     "data": {
      "text/html": [
       "<div>\n",
       "<style scoped>\n",
       "    .dataframe tbody tr th:only-of-type {\n",
       "        vertical-align: middle;\n",
       "    }\n",
       "\n",
       "    .dataframe tbody tr th {\n",
       "        vertical-align: top;\n",
       "    }\n",
       "\n",
       "    .dataframe thead th {\n",
       "        text-align: right;\n",
       "    }\n",
       "</style>\n",
       "<table border=\"1\" class=\"dataframe\">\n",
       "  <thead>\n",
       "    <tr style=\"text-align: right;\">\n",
       "      <th></th>\n",
       "      <th>coef</th>\n",
       "      <th>std err</th>\n",
       "      <th>t</th>\n",
       "      <th>P&gt;|t|</th>\n",
       "    </tr>\n",
       "  </thead>\n",
       "  <tbody>\n",
       "    <tr>\n",
       "      <th>intercept</th>\n",
       "      <td>1.9371</td>\n",
       "      <td>0.189</td>\n",
       "      <td>10.242</td>\n",
       "      <td>0.0</td>\n",
       "    </tr>\n",
       "    <tr>\n",
       "      <th>x1</th>\n",
       "      <td>2.0771</td>\n",
       "      <td>0.335</td>\n",
       "      <td>6.196</td>\n",
       "      <td>0.0</td>\n",
       "    </tr>\n",
       "  </tbody>\n",
       "</table>\n",
       "</div>"
      ],
      "text/plain": [
       "             coef  std err       t  P>|t|\n",
       "intercept  1.9371    0.189  10.242    0.0\n",
       "x1         2.0771    0.335   6.196    0.0"
      ]
     },
     "execution_count": 117,
     "metadata": {},
     "output_type": "execute_result"
    }
   ],
   "source": [
    "summarize(results2)"
   ]
  },
  {
   "cell_type": "markdown",
   "id": "4e995d34-53c5-44fe-b7d4-8ccbbf5db4a5",
   "metadata": {},
   "source": [
    "* Results shows that the values of coefficients are close to true coefficients, also standard error is low and p value also low, hence x1 has larger effect on response.\n",
    "* Yes we can reject the null hypothesis."
   ]
  },
  {
   "cell_type": "markdown",
   "id": "de8a6b7e-e1a7-4db8-b647-0b52ab266e24",
   "metadata": {},
   "source": [
    "## (e) Now fit a least squares regression to predict y using only x2. Comment on your results. Can you reject the null hypothesis H0 : β1 = 0?\r"
   ]
  },
  {
   "cell_type": "code",
   "execution_count": 118,
   "id": "aed958b1-ca79-4b97-aed2-ce63067a03b0",
   "metadata": {},
   "outputs": [],
   "source": [
    "# Fitting the model\n",
    "design2 = MS(['x2'])\n",
    "newX1 = design2.fit_transform(df)\n",
    "model2 = sm.OLS(y, newX1)\n",
    "results3 = model2.fit()"
   ]
  },
  {
   "cell_type": "code",
   "execution_count": 119,
   "id": "a576d4c0-bd02-4a99-af45-6b8fa1760d6f",
   "metadata": {},
   "outputs": [
    {
     "data": {
      "text/html": [
       "<div>\n",
       "<style scoped>\n",
       "    .dataframe tbody tr th:only-of-type {\n",
       "        vertical-align: middle;\n",
       "    }\n",
       "\n",
       "    .dataframe tbody tr th {\n",
       "        vertical-align: top;\n",
       "    }\n",
       "\n",
       "    .dataframe thead th {\n",
       "        text-align: right;\n",
       "    }\n",
       "</style>\n",
       "<table border=\"1\" class=\"dataframe\">\n",
       "  <thead>\n",
       "    <tr style=\"text-align: right;\">\n",
       "      <th></th>\n",
       "      <th>coef</th>\n",
       "      <th>std err</th>\n",
       "      <th>t</th>\n",
       "      <th>P&gt;|t|</th>\n",
       "    </tr>\n",
       "  </thead>\n",
       "  <tbody>\n",
       "    <tr>\n",
       "      <th>intercept</th>\n",
       "      <td>2.3239</td>\n",
       "      <td>0.154</td>\n",
       "      <td>15.124</td>\n",
       "      <td>0.0</td>\n",
       "    </tr>\n",
       "    <tr>\n",
       "      <th>x2</th>\n",
       "      <td>2.9103</td>\n",
       "      <td>0.550</td>\n",
       "      <td>5.291</td>\n",
       "      <td>0.0</td>\n",
       "    </tr>\n",
       "  </tbody>\n",
       "</table>\n",
       "</div>"
      ],
      "text/plain": [
       "             coef  std err       t  P>|t|\n",
       "intercept  2.3239    0.154  15.124    0.0\n",
       "x2         2.9103    0.550   5.291    0.0"
      ]
     },
     "execution_count": 119,
     "metadata": {},
     "output_type": "execute_result"
    }
   ],
   "source": [
    "summarize(results3)"
   ]
  },
  {
   "cell_type": "markdown",
   "id": "9240c01e-afd7-4c43-9f66-ff78d90d8e5f",
   "metadata": {},
   "source": [
    "* Results shows that the value of B0 is close to true B0 but B1 is greater than true B1 but p value is low, hence we reject the null hypothesis."
   ]
  },
  {
   "cell_type": "markdown",
   "id": "ae4edc25-b239-4790-a58f-0d47b56d65e0",
   "metadata": {},
   "source": [
    "## (f) Do the results obtained in (c)–(e) contradict each other? Explain your answer."
   ]
  },
  {
   "cell_type": "markdown",
   "id": "512bae98-62e3-430f-bf11-8e06fe562568",
   "metadata": {},
   "source": [
    "* Yes their is contradict between results due to collinearity between x1 and x2. Their is small direct effect of x2 on y which is shown in (c) but when we apply simple linear regression then it shows large effect."
   ]
  },
  {
   "cell_type": "markdown",
   "id": "81b808ee-7445-44eb-93ce-1b425891a994",
   "metadata": {},
   "source": [
    "## (g) Re-fit the linear models from (c) to (e) using this new data. What effect does this new observation have on the each of the models?"
   ]
  },
  {
   "cell_type": "code",
   "execution_count": 120,
   "id": "6d2033e1-8171-4633-a266-84d520807cff",
   "metadata": {},
   "outputs": [],
   "source": [
    "# Adding new observation\n",
    "x1 = np.concatenate([x1, [0.1]])\n",
    "x2 = np.concatenate([x2, [0.8]])\n",
    "y = np.concatenate([y, [6]])\n",
    "\n",
    "# Create dataframe from above data\n",
    "df1 = pd.DataFrame({'x1': x1, 'x2': x2})"
   ]
  },
  {
   "cell_type": "code",
   "execution_count": 121,
   "id": "bcdf616e-ac9b-40e5-91a7-65ec0156fbba",
   "metadata": {},
   "outputs": [],
   "source": [
    "design3 = MS(['x1', 'x2'])\n",
    "X2 = design3.fit_transform(df1)"
   ]
  },
  {
   "cell_type": "code",
   "execution_count": 122,
   "id": "2bb08c80-ef4b-488c-8f2e-5db80e9f0474",
   "metadata": {},
   "outputs": [],
   "source": [
    "# Fitting the model\n",
    "model = sm.OLS(y, X2)\n",
    "results4 = model.fit()"
   ]
  },
  {
   "cell_type": "code",
   "execution_count": 123,
   "id": "1770ce1e-13db-40a6-a123-1ef4d80a32e9",
   "metadata": {},
   "outputs": [
    {
     "data": {
      "text/html": [
       "<table class=\"simpletable\">\n",
       "<caption>OLS Regression Results</caption>\n",
       "<tr>\n",
       "  <th>Dep. Variable:</th>            <td>y</td>        <th>  R-squared:         </th> <td>   0.292</td>\n",
       "</tr>\n",
       "<tr>\n",
       "  <th>Model:</th>                   <td>OLS</td>       <th>  Adj. R-squared:    </th> <td>   0.277</td>\n",
       "</tr>\n",
       "<tr>\n",
       "  <th>Method:</th>             <td>Least Squares</td>  <th>  F-statistic:       </th> <td>   20.17</td>\n",
       "</tr>\n",
       "<tr>\n",
       "  <th>Date:</th>             <td>Wed, 20 Mar 2024</td> <th>  Prob (F-statistic):</th> <td>4.60e-08</td>\n",
       "</tr>\n",
       "<tr>\n",
       "  <th>Time:</th>                 <td>13:21:05</td>     <th>  Log-Likelihood:    </th> <td> -135.30</td>\n",
       "</tr>\n",
       "<tr>\n",
       "  <th>No. Observations:</th>      <td>   101</td>      <th>  AIC:               </th> <td>   276.6</td>\n",
       "</tr>\n",
       "<tr>\n",
       "  <th>Df Residuals:</th>          <td>    98</td>      <th>  BIC:               </th> <td>   284.5</td>\n",
       "</tr>\n",
       "<tr>\n",
       "  <th>Df Model:</th>              <td>     2</td>      <th>                     </th>     <td> </td>   \n",
       "</tr>\n",
       "<tr>\n",
       "  <th>Covariance Type:</th>      <td>nonrobust</td>    <th>                     </th>     <td> </td>   \n",
       "</tr>\n",
       "</table>\n",
       "<table class=\"simpletable\">\n",
       "<tr>\n",
       "      <td></td>         <th>coef</th>     <th>std err</th>      <th>t</th>      <th>P>|t|</th>  <th>[0.025</th>    <th>0.975]</th>  \n",
       "</tr>\n",
       "<tr>\n",
       "  <th>intercept</th> <td>    2.0618</td> <td>    0.192</td> <td>   10.720</td> <td> 0.000</td> <td>    1.680</td> <td>    2.443</td>\n",
       "</tr>\n",
       "<tr>\n",
       "  <th>x1</th>        <td>    0.8575</td> <td>    0.466</td> <td>    1.838</td> <td> 0.069</td> <td>   -0.068</td> <td>    1.783</td>\n",
       "</tr>\n",
       "<tr>\n",
       "  <th>x2</th>        <td>    2.2663</td> <td>    0.705</td> <td>    3.216</td> <td> 0.002</td> <td>    0.868</td> <td>    3.665</td>\n",
       "</tr>\n",
       "</table>\n",
       "<table class=\"simpletable\">\n",
       "<tr>\n",
       "  <th>Omnibus:</th>       <td> 0.139</td> <th>  Durbin-Watson:     </th> <td>   1.894</td>\n",
       "</tr>\n",
       "<tr>\n",
       "  <th>Prob(Omnibus):</th> <td> 0.933</td> <th>  Jarque-Bera (JB):  </th> <td>   0.320</td>\n",
       "</tr>\n",
       "<tr>\n",
       "  <th>Skew:</th>          <td> 0.013</td> <th>  Prob(JB):          </th> <td>   0.852</td>\n",
       "</tr>\n",
       "<tr>\n",
       "  <th>Kurtosis:</th>      <td> 2.725</td> <th>  Cond. No.          </th> <td>    9.68</td>\n",
       "</tr>\n",
       "</table><br/><br/>Notes:<br/>[1] Standard Errors assume that the covariance matrix of the errors is correctly specified."
      ],
      "text/latex": [
       "\\begin{center}\n",
       "\\begin{tabular}{lclc}\n",
       "\\toprule\n",
       "\\textbf{Dep. Variable:}    &        y         & \\textbf{  R-squared:         } &     0.292   \\\\\n",
       "\\textbf{Model:}            &       OLS        & \\textbf{  Adj. R-squared:    } &     0.277   \\\\\n",
       "\\textbf{Method:}           &  Least Squares   & \\textbf{  F-statistic:       } &     20.17   \\\\\n",
       "\\textbf{Date:}             & Wed, 20 Mar 2024 & \\textbf{  Prob (F-statistic):} &  4.60e-08   \\\\\n",
       "\\textbf{Time:}             &     13:21:05     & \\textbf{  Log-Likelihood:    } &   -135.30   \\\\\n",
       "\\textbf{No. Observations:} &         101      & \\textbf{  AIC:               } &     276.6   \\\\\n",
       "\\textbf{Df Residuals:}     &          98      & \\textbf{  BIC:               } &     284.5   \\\\\n",
       "\\textbf{Df Model:}         &           2      & \\textbf{                     } &             \\\\\n",
       "\\textbf{Covariance Type:}  &    nonrobust     & \\textbf{                     } &             \\\\\n",
       "\\bottomrule\n",
       "\\end{tabular}\n",
       "\\begin{tabular}{lcccccc}\n",
       "                   & \\textbf{coef} & \\textbf{std err} & \\textbf{t} & \\textbf{P$> |$t$|$} & \\textbf{[0.025} & \\textbf{0.975]}  \\\\\n",
       "\\midrule\n",
       "\\textbf{intercept} &       2.0618  &        0.192     &    10.720  &         0.000        &        1.680    &        2.443     \\\\\n",
       "\\textbf{x1}        &       0.8575  &        0.466     &     1.838  &         0.069        &       -0.068    &        1.783     \\\\\n",
       "\\textbf{x2}        &       2.2663  &        0.705     &     3.216  &         0.002        &        0.868    &        3.665     \\\\\n",
       "\\bottomrule\n",
       "\\end{tabular}\n",
       "\\begin{tabular}{lclc}\n",
       "\\textbf{Omnibus:}       &  0.139 & \\textbf{  Durbin-Watson:     } &    1.894  \\\\\n",
       "\\textbf{Prob(Omnibus):} &  0.933 & \\textbf{  Jarque-Bera (JB):  } &    0.320  \\\\\n",
       "\\textbf{Skew:}          &  0.013 & \\textbf{  Prob(JB):          } &    0.852  \\\\\n",
       "\\textbf{Kurtosis:}      &  2.725 & \\textbf{  Cond. No.          } &     9.68  \\\\\n",
       "\\bottomrule\n",
       "\\end{tabular}\n",
       "%\\caption{OLS Regression Results}\n",
       "\\end{center}\n",
       "\n",
       "Notes: \\newline\n",
       " [1] Standard Errors assume that the covariance matrix of the errors is correctly specified."
      ],
      "text/plain": [
       "<class 'statsmodels.iolib.summary.Summary'>\n",
       "\"\"\"\n",
       "                            OLS Regression Results                            \n",
       "==============================================================================\n",
       "Dep. Variable:                      y   R-squared:                       0.292\n",
       "Model:                            OLS   Adj. R-squared:                  0.277\n",
       "Method:                 Least Squares   F-statistic:                     20.17\n",
       "Date:                Wed, 20 Mar 2024   Prob (F-statistic):           4.60e-08\n",
       "Time:                        13:21:05   Log-Likelihood:                -135.30\n",
       "No. Observations:                 101   AIC:                             276.6\n",
       "Df Residuals:                      98   BIC:                             284.5\n",
       "Df Model:                           2                                         \n",
       "Covariance Type:            nonrobust                                         \n",
       "==============================================================================\n",
       "                 coef    std err          t      P>|t|      [0.025      0.975]\n",
       "------------------------------------------------------------------------------\n",
       "intercept      2.0618      0.192     10.720      0.000       1.680       2.443\n",
       "x1             0.8575      0.466      1.838      0.069      -0.068       1.783\n",
       "x2             2.2663      0.705      3.216      0.002       0.868       3.665\n",
       "==============================================================================\n",
       "Omnibus:                        0.139   Durbin-Watson:                   1.894\n",
       "Prob(Omnibus):                  0.933   Jarque-Bera (JB):                0.320\n",
       "Skew:                           0.013   Prob(JB):                        0.852\n",
       "Kurtosis:                       2.725   Cond. No.                         9.68\n",
       "==============================================================================\n",
       "\n",
       "Notes:\n",
       "[1] Standard Errors assume that the covariance matrix of the errors is correctly specified.\n",
       "\"\"\""
      ]
     },
     "execution_count": 123,
     "metadata": {},
     "output_type": "execute_result"
    }
   ],
   "source": [
    "results4.summary()"
   ]
  },
  {
   "cell_type": "code",
   "execution_count": 124,
   "id": "df6cf524-c9f8-4f58-8e16-b45ab73216cc",
   "metadata": {},
   "outputs": [],
   "source": [
    "design4 = MS(['x1'])\n",
    "X3 = design4.fit_transform(df1)\n",
    "model3 = sm.OLS(y, X3)\n",
    "results5 = model3.fit()"
   ]
  },
  {
   "cell_type": "code",
   "execution_count": 125,
   "id": "31f2e057-ea49-4cb8-bc49-962c29ca958b",
   "metadata": {},
   "outputs": [
    {
     "data": {
      "text/html": [
       "<div>\n",
       "<style scoped>\n",
       "    .dataframe tbody tr th:only-of-type {\n",
       "        vertical-align: middle;\n",
       "    }\n",
       "\n",
       "    .dataframe tbody tr th {\n",
       "        vertical-align: top;\n",
       "    }\n",
       "\n",
       "    .dataframe thead th {\n",
       "        text-align: right;\n",
       "    }\n",
       "</style>\n",
       "<table border=\"1\" class=\"dataframe\">\n",
       "  <thead>\n",
       "    <tr style=\"text-align: right;\">\n",
       "      <th></th>\n",
       "      <th>coef</th>\n",
       "      <th>std err</th>\n",
       "      <th>t</th>\n",
       "      <th>P&gt;|t|</th>\n",
       "    </tr>\n",
       "  </thead>\n",
       "  <tbody>\n",
       "    <tr>\n",
       "      <th>intercept</th>\n",
       "      <td>2.0739</td>\n",
       "      <td>0.201</td>\n",
       "      <td>10.310</td>\n",
       "      <td>0.0</td>\n",
       "    </tr>\n",
       "    <tr>\n",
       "      <th>x1</th>\n",
       "      <td>1.8760</td>\n",
       "      <td>0.358</td>\n",
       "      <td>5.236</td>\n",
       "      <td>0.0</td>\n",
       "    </tr>\n",
       "  </tbody>\n",
       "</table>\n",
       "</div>"
      ],
      "text/plain": [
       "             coef  std err       t  P>|t|\n",
       "intercept  2.0739    0.201  10.310    0.0\n",
       "x1         1.8760    0.358   5.236    0.0"
      ]
     },
     "execution_count": 125,
     "metadata": {},
     "output_type": "execute_result"
    }
   ],
   "source": [
    "summarize(results5)"
   ]
  },
  {
   "cell_type": "code",
   "execution_count": 126,
   "id": "efe8ccc5-5b4a-4491-a70c-8e9f822102fa",
   "metadata": {},
   "outputs": [],
   "source": [
    "design5 = MS(['x2'])\n",
    "X4 = design5.fit_transform(df1)\n",
    "model4 = sm.OLS(y, X4)\n",
    "results6 = model4.fit()"
   ]
  },
  {
   "cell_type": "code",
   "execution_count": 127,
   "id": "c315154d-edfa-424e-a85e-8a3aeb11876f",
   "metadata": {},
   "outputs": [
    {
     "data": {
      "text/html": [
       "<div>\n",
       "<style scoped>\n",
       "    .dataframe tbody tr th:only-of-type {\n",
       "        vertical-align: middle;\n",
       "    }\n",
       "\n",
       "    .dataframe tbody tr th {\n",
       "        vertical-align: top;\n",
       "    }\n",
       "\n",
       "    .dataframe thead th {\n",
       "        text-align: right;\n",
       "    }\n",
       "</style>\n",
       "<table border=\"1\" class=\"dataframe\">\n",
       "  <thead>\n",
       "    <tr style=\"text-align: right;\">\n",
       "      <th></th>\n",
       "      <th>coef</th>\n",
       "      <th>std err</th>\n",
       "      <th>t</th>\n",
       "      <th>P&gt;|t|</th>\n",
       "    </tr>\n",
       "  </thead>\n",
       "  <tbody>\n",
       "    <tr>\n",
       "      <th>intercept</th>\n",
       "      <td>2.2840</td>\n",
       "      <td>0.151</td>\n",
       "      <td>15.088</td>\n",
       "      <td>0.0</td>\n",
       "    </tr>\n",
       "    <tr>\n",
       "      <th>x2</th>\n",
       "      <td>3.1458</td>\n",
       "      <td>0.524</td>\n",
       "      <td>6.008</td>\n",
       "      <td>0.0</td>\n",
       "    </tr>\n",
       "  </tbody>\n",
       "</table>\n",
       "</div>"
      ],
      "text/plain": [
       "             coef  std err       t  P>|t|\n",
       "intercept  2.2840    0.151  15.088    0.0\n",
       "x2         3.1458    0.524   6.008    0.0"
      ]
     },
     "execution_count": 127,
     "metadata": {},
     "output_type": "execute_result"
    }
   ],
   "source": [
    "summarize(results6)"
   ]
  },
  {
   "cell_type": "code",
   "execution_count": 128,
   "id": "4f306198-5b38-4788-b9ce-f2f029093a8a",
   "metadata": {},
   "outputs": [
    {
     "data": {
      "image/png": "[encoded data removed]",
      "text/plain": [
       "<Figure size 500x500 with 1 Axes>"
      ]
     },
     "metadata": {},
     "output_type": "display_data"
    }
   ],
   "source": [
    "# Plotting the residual plot\n",
    "ax = plt.subplots(figsize=(5,5))[1]\n",
    "ax.scatter(df1.x1 , y, label = 'Data points')\n",
    "ax.set_xlabel('X1')\n",
    "ax.set_ylabel('Y')\n",
    "ax.legend();"
   ]
  },
  {
   "cell_type": "code",
   "execution_count": 129,
   "id": "633449ea-4b5d-4a05-84a7-459728320344",
   "metadata": {},
   "outputs": [
    {
     "data": {
      "image/png": "[encoded data removed]",
      "text/plain": [
       "<Figure size 500x500 with 1 Axes>"
      ]
     },
     "metadata": {},
     "output_type": "display_data"
    }
   ],
   "source": [
    "# Plotting the residual plot\n",
    "ax = plt.subplots(figsize=(5,5))[1]\n",
    "ax.scatter(df1.x2 , y, label = 'Data points')\n",
    "ax.set_xlabel('X2')\n",
    "ax.set_ylabel('Y')\n",
    "ax.legend();"
   ]
  },
  {
   "cell_type": "code",
   "execution_count": 130,
   "id": "302d291d-cffc-4327-a950-8a3a7845df13",
   "metadata": {},
   "outputs": [
    {
     "data": {
      "image/png": "[encoded data removed]",
      "text/plain": [
       "<Figure size 500x500 with 1 Axes>"
      ]
     },
     "metadata": {},
     "output_type": "display_data"
    }
   ],
   "source": [
    "# Plotting the residual plot\n",
    "ax = plt.subplots(figsize=(5,5))[1]\n",
    "ax.scatter(results6.fittedvalues , results6.resid, label = 'Data points')\n",
    "ax.set_xlabel('Fitted value')\n",
    "ax.set_ylabel('Residual')\n",
    "ax.axhline(0, c='k', ls='--', label = 'Reference line')\n",
    "ax.legend();"
   ]
  },
  {
   "cell_type": "code",
   "execution_count": 131,
   "id": "19be1f46-0cc8-4c50-91da-55fb6d2e4d4e",
   "metadata": {},
   "outputs": [
    {
     "data": {
      "image/png": "[encoded data removed]",
      "text/plain": [
       "<Figure size 500x500 with 1 Axes>"
      ]
     },
     "metadata": {},
     "output_type": "display_data"
    }
   ],
   "source": [
    "# Plotting the leverage statistics\n",
    "infl = results6.get_influence()\n",
    "ax = plt.subplots(figsize=(5,5))[1]\n",
    "ax.scatter(np.arange(df1.shape[0]), infl.hat_matrix_diag, label = 'Data points')\n",
    "ax.set_xlabel('Index')\n",
    "ax.set_ylabel('Leverage')\n",
    "np.argmax(infl.hat_matrix_diag)\n",
    "ax.legend();"
   ]
  },
  {
   "cell_type": "code",
   "execution_count": null,
   "id": "9e1b7b00-aa7e-42f6-a22c-caaf4c70e4bb",
   "metadata": {},
   "outputs": [],
   "source": []
  }
 ],
 "metadata": {
  "kernelspec": {
   "display_name": "Python 3 (ipykernel)",
   "language": "python",
   "name": "python3"
  },
  "language_info": {
   "codemirror_mode": {
    "name": "ipython",
    "version": 3
   },
   "file_extension": ".py",
   "mimetype": "text/x-python",
   "name": "python",
   "nbconvert_exporter": "python",
   "pygments_lexer": "ipython3",
   "version": "3.11.7"
  }
 },
 "nbformat": 4,
 "nbformat_minor": 5
}
